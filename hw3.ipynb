{
 "cells": [
  {
   "cell_type": "markdown",
   "id": "4006c230-0f0a-442b-b07c-e3ac087afbb2",
   "metadata": {
    "nbgrader": {
     "grade": false,
     "grade_id": "cell-06d3e5bf55c941ae",
     "locked": true,
     "schema_version": 3,
     "solution": false,
     "task": false
    },
    "tags": []
   },
   "source": [
    "# Homework set 3"
   ]
  },
  {
   "cell_type": "markdown",
   "id": "1b1b4bf1-32e3-4ac4-b7f6-ec2c254dce13",
   "metadata": {
    "nbgrader": {
     "grade": false,
     "grade_id": "cell-736ff6bc3e0d0696",
     "locked": true,
     "schema_version": 3,
     "solution": false,
     "task": false
    }
   },
   "source": [
    "Please **submit this Jupyter notebook through Canvas** no later than **Monday December 2**. **Submit the notebook file with your answers (as .ipynb file) and a pdf printout. The pdf version can be used by the teachers to provide feedback. On canvas there are hints about creating a nice pdf version.**\n",
    "\n",
    "Before you hand in, please make sure the notebook runs, by running \"Restart kernel and run all cells...\" from the Kernel menu.\n",
    "\n",
    "Homework is in **groups of two**, and you are expected to hand in original work. Work that is copied from another group will not be accepted."
   ]
  },
  {
   "cell_type": "markdown",
   "id": "1859055d-08e7-4ea9-a150-3e516aca8149",
   "metadata": {
    "nbgrader": {
     "grade": false,
     "grade_id": "cell-b13bc5ed16bce8e0",
     "locked": true,
     "schema_version": 3,
     "solution": false,
     "task": false
    }
   },
   "source": [
    "# Exercise 0\n",
    "Costanza D'Ercole - 15424596\n",
    "\n",
    "Zoe Azra Blei - 15762467"
   ]
  },
  {
   "cell_type": "markdown",
   "id": "4fd6e7f5-fd21-4513-b257-6aaafd1b51e9",
   "metadata": {
    "nbgrader": {
     "grade": false,
     "grade_id": "cell-b5a7855ecca9f6be",
     "locked": true,
     "schema_version": 3,
     "solution": false,
     "task": false
    }
   },
   "source": [
    "Run the following cell to import NumPy, Matplotlib. If anything else is needed you can import this yourself."
   ]
  },
  {
   "cell_type": "code",
   "execution_count": 1,
   "id": "c24e35cc-be36-4289-8ccc-3538644c6157",
   "metadata": {},
   "outputs": [],
   "source": [
    "import numpy as np\n",
    "import matplotlib.pyplot as plt\n"
   ]
  },
  {
   "cell_type": "markdown",
   "id": "ef387050-61e8-4b0d-b004-fc829b6322a9",
   "metadata": {},
   "source": [
    "# Exercise 1: Nonlinear least squares\n",
    "\n",
    "This exercise is about the Gauss-Newton method, and the Levenberg-Marquardt method, which are discussed in section 6.6 of Heath. Please read this section before making this homework set. **In this exercise set the Levenberg-Marquardt method is a little different from the one in Heath. The first equation in subsection 6.6.2 is replaced by**\n",
    "$$\n",
    "\\renewcommand{\\bfA}{\\boldsymbol{A}}\n",
    "\\renewcommand{\\bfB}{\\boldsymbol{B}}\n",
    "\\renewcommand{\\bfJ}{\\boldsymbol{J}}\n",
    "\\renewcommand{\\bfr}{\\boldsymbol{r}}\n",
    "\\renewcommand{\\bfs}{\\boldsymbol{s}}\n",
    "\\renewcommand{\\bfx}{\\boldsymbol{x}}\n",
    "\\renewcommand{\\for}{\\text{\\bf for }}\n",
    "\\renewcommand{\\end}{\\text{\\bf end }}\n",
    "\\bigg(\\bfJ^T(\\bfx_k) \\bfJ(\\bfx_k) \n",
    "+ \\mu_k \\operatorname{Diagonal}\\big( \\bfJ^T(\\bfx_k) \\bfJ(\\bfx_k) \\big) \\bigg) \\bfs_k\n",
    "= - \\bfJ^T(\\bfx_k) \\, \\bfr(\\bfx_k)\n",
    "$$\n",
    "Here $\\operatorname{Diagonal}(\\bfB)$ denotes the diagonal part of $\\bfB$. So $\\operatorname{Diagonal}(\\bfB)$ has the same shape as $\\bfB$ and identical entries on the diagonal and it has zero off-diagonal entries.\n",
    "\n",
    "The algorithm for Levenberg-Marquardt, with $\\mu_k$ constant (denoted $\\mu$ here), is then</br>\n",
    "$\\qquad \\bfx_0 = \\text{initial guess}$</br>\n",
    "$\\qquad \\mu = \\text{constant}$</br>\n",
    "$\\qquad \\for k = 0,1,2, \\ldots$</br>\n",
    "$\\qquad \\qquad \\bfA = \\bfJ_f(\\bfx_k)$</br>\n",
    "$\\qquad \\qquad \\text{solve } \\bfs_k \\text{ from } \n",
    "(\\bfA^T \\bfA + \\mu \\operatorname{Diagonal}(\\bfA^T \\bfA)) \\bfs_k = - \\bfA^T \\bfr(\\bfx_k)$</br>\n",
    "$\\qquad \\qquad \\bfx_{k+1} = \\bfx_k + \\bfs_k$</br>\n",
    "$\\qquad \\end$</br>\n",
    "\n",
    "This reduces to the Gauss-Newton method if $\\mu = 0$. "
   ]
  },
  {
   "cell_type": "markdown",
   "id": "51052506-f62f-45c1-a980-faaec89e7260",
   "metadata": {},
   "source": [
    "## (a)\n",
    "Implement the Levenberg-Marquardt method with constant $\\mu$ using a suitable stopping criterion. \n",
    "Make it such that the user can specify the value of the tolerance in the stopping criterion via a parameter `tol` and the maximum number of iterations via a\n",
    "parameter `maxIter`. In the implementation you can use library functions for linear algebra operations. "
   ]
  },
  {
   "cell_type": "code",
   "execution_count": 81,
   "id": "27c75b12-ae54-4b5f-8cee-8c9f3a1a3581",
   "metadata": {},
   "outputs": [],
   "source": [
    "def Lev_Mar(x0, mu, tol, maxIter, f, J, b, t):\n",
    "    \"\"\"\n",
    "    Levenberg-Marquardt method for nonlinear least squares.\n",
    "\n",
    "    Parameters:\n",
    "        x0: Initial guess (array-like).\n",
    "        mu: Damping parameter (scalar).\n",
    "        tol: Tolerance for stopping criterion.\n",
    "        maxIter: Maximum number of iterations.\n",
    "        f: Function for computing f(x).\n",
    "        J: Function for computing Jacobian J_f(x).\n",
    "        b: Observed data vector.\n",
    "\n",
    "    Returns:\n",
    "        x_new: Solution vector.\n",
    "    \"\"\"\n",
    "    x_old = x0\n",
    "    iters = 0\n",
    "    for _ in range(maxIter):\n",
    "        A = J(x_old, t)  # Compute Jacobian matrix J_f(x_k)\n",
    "        B = np.diag(np.diag(A.T @ A))  # Compute Diagonal(A^T A)\n",
    "        r = f(x_old, t) - b  # Compute residual r(x_k)\n",
    "        s = np.linalg.solve(A.T @ A + mu * B, -A.T @ r)  # Solve for s_k\n",
    "        \n",
    "        x_new = x_old + s  # Update x_k+1\n",
    "        \n",
    "        # Check stopping criterion\n",
    "        if np.linalg.norm(x_new - x_old) < tol:\n",
    "            return x_new, iters + 1\n",
    "        \n",
    "        x_old = x_new\n",
    "        iters += 1\n",
    "    \n",
    "    # Raise exception if not converged within maxIter\n",
    "    raise Exception(\"Did not converge in max iterations!\")\n"
   ]
  },
  {
   "cell_type": "markdown",
   "id": "2fe3f2bc-3459-4565-a21c-3418508fd181",
   "metadata": {},
   "source": [
    "## (b) \n",
    "\n",
    "The time course of drug concentration $y$ in the bloodstream is well described by\n",
    "$$ \\tag{1}\n",
    "  y = c_1 t e^{c_2 t} ,\n",
    "$$\n",
    "where $t$ denotes time after the drug was administered. The characteristics of the model\n",
    "are a quick rise as the drug enters the bloodstream, followed by slow exponential decay.\n",
    "The half-life of the drug is the time from the peak concentration to the time it drops to\n",
    "half that level. The measured level of the drug norfluoxetine in a patient's bloodstream at whole hours after it was administered is given in the following data:"
   ]
  },
  {
   "cell_type": "code",
   "execution_count": 82,
   "id": "2aa9b61c-0ceb-43b0-9391-e8d237281bb3",
   "metadata": {},
   "outputs": [],
   "source": [
    "# time in hours\n",
    "hour = np.array( [ 1.0, 2.0, 3.0, 4.0, 5.0, 6.0, 7.0, 8.0 ] )\n",
    "# concentration in ng/ml\n",
    "concentration = np.array( [ 8.0, 12.3, 15.5, 16.8, 17.1, 15.8, 15.2, 14.0 ] )\n"
   ]
  },
  {
   "cell_type": "markdown",
   "id": "12b973cc-1086-436d-80fd-aab3849892ed",
   "metadata": {},
   "source": [
    "Use the Gauss-Newton method to fit this data to the blood concentration model (1).\n",
    "\n",
    "Also use the Levenberg-Marquardt method with $\\mu =0.1$ to address the same problem.\n",
    "\n",
    "Which method produces the least number of iterations? N.B. clearly state the starting point. \n",
    "\n",
    "You are asked to use your own version of Gauss-Newton and Levenberg-Marquardt."
   ]
  },
  {
   "cell_type": "code",
   "execution_count": 83,
   "id": "0b03a550-182d-4603-b72b-be6c62d25940",
   "metadata": {},
   "outputs": [
    {
     "name": "stdout",
     "output_type": "stream",
     "text": [
      "The starting values for c1 and c2 are: [-1, 1]\n",
      "Approximate solution with Levenberg-Marquard: [ 9.79692699 -0.21508714]\n",
      "Solution reached in 46 iterations.\n",
      "Approximate solution with Gauss-Newton: [ 9.79692816 -0.21508717]\n",
      "Solution reached in 17 iterations.\n"
     ]
    }
   ],
   "source": [
    "# Gauss-Newton function\n",
    "def Gauss_Newton(x0, tol, maxIter, f, J, b, t):\n",
    "    x_old = x0\n",
    "    iters = 0\n",
    "    for _ in range(maxIter):\n",
    "        A = J(x_old, t)  # Compute Jacobian matrix J_f(x_k)\n",
    "        r = f(x_old, t) - b  # Compute residual r(x_k)\n",
    "        s = np.linalg.solve(A.T @ A, -A.T @ r)  # Solve for s_k\n",
    "        \n",
    "        x_new = x_old + s  # Update x_k+1\n",
    "        \n",
    "        # Check stopping criterion\n",
    "        if np.linalg.norm(x_new - x_old) < tol:\n",
    "            return x_new, iters + 1\n",
    "        \n",
    "        x_old = x_new\n",
    "        iters += 1\n",
    "    \n",
    "    # Raise exception if not converged within maxIter\n",
    "    raise Exception(\"Did not converge in max iterations!\")\n",
    "\n",
    "x0 = [-1,1]\n",
    "mu = 0.1\n",
    "tol = 1e-6\n",
    "maxIter = 50\n",
    "\n",
    "def f(x, t):\n",
    "    x1, x2 = x\n",
    "    return x1 * t * np.exp(x2 * t)\n",
    "\n",
    "def J(x, t):\n",
    "    x1, x2 = x\n",
    "    return np.column_stack((\n",
    "        t * np.exp(x2 * t),          # Partial derivative w.r.t x1\n",
    "        x1 * t**2 * np.exp(x2 * t)  # Partial derivative w.r.t x2\n",
    "    ))\n",
    "\n",
    "print(f\"The starting values for c1 and c2 are: {x0}\")\n",
    "# Fit with Levenberg-Marquart method\n",
    "sol, iters = Lev_Mar(x0, mu, tol, maxIter, f, J, concentration, hour)\n",
    "print(f\"Approximate solution with Levenberg-Marquard: {sol}\")\n",
    "print(f\"Solution reached in {iters} iterations.\")\n",
    "\n",
    "# Fiit with Gauss-Newton\n",
    "sol_g, iters_g = Gauss_Newton(x0, tol, maxIter, f, J, concentration, hour)\n",
    "print(f\"Approximate solution with Gauss-Newton: {sol_g}\")\n",
    "print(f\"Solution reached in {iters_g} iterations.\")\n",
    "\n"
   ]
  },
  {
   "cell_type": "markdown",
   "id": "1f19cf9e",
   "metadata": {},
   "source": [
    "Looking at the results, the Gauss-Newton method converged faster, with less iterations required (17) compared to Levenberg-Marquard (46)."
   ]
  },
  {
   "cell_type": "markdown",
   "id": "4cd1fa65-7d08-4c6d-95a1-f628f1cd3832",
   "metadata": {},
   "source": [
    "# (c)\n",
    "Try to find a starting point such that Gauss-Newton does not converge, while Levenberg-Marquardt does.\n",
    "\n"
   ]
  },
  {
   "cell_type": "code",
   "execution_count": 84,
   "id": "cb9a6ce9-5972-4752-b4f2-0b98784496d9",
   "metadata": {},
   "outputs": [
    {
     "name": "stdout",
     "output_type": "stream",
     "text": [
      "The starting values for c1 and c2 are: [2, 1]\n",
      "Approximate solution with Levenberg-Marquard: [ 9.79692732 -0.21508715]\n",
      "Solution reached in 47 iterations.\n"
     ]
    },
    {
     "ename": "Exception",
     "evalue": "Did not converge in max iterations!",
     "output_type": "error",
     "traceback": [
      "\u001b[1;31m---------------------------------------------------------------------------\u001b[0m",
      "\u001b[1;31mException\u001b[0m                                 Traceback (most recent call last)",
      "Cell \u001b[1;32mIn[84], line 10\u001b[0m\n\u001b[0;32m      7\u001b[0m \u001b[38;5;28mprint\u001b[39m(\u001b[38;5;124mf\u001b[39m\u001b[38;5;124m\"\u001b[39m\u001b[38;5;124mSolution reached in \u001b[39m\u001b[38;5;132;01m{\u001b[39;00miters\u001b[38;5;132;01m}\u001b[39;00m\u001b[38;5;124m iterations.\u001b[39m\u001b[38;5;124m\"\u001b[39m)\n\u001b[0;32m      9\u001b[0m \u001b[38;5;66;03m# Fiit with Gauss-Newton\u001b[39;00m\n\u001b[1;32m---> 10\u001b[0m sol_g, iters_g \u001b[38;5;241m=\u001b[39m \u001b[43mGauss_Newton\u001b[49m\u001b[43m(\u001b[49m\u001b[43mx0\u001b[49m\u001b[43m,\u001b[49m\u001b[43m \u001b[49m\u001b[43mtol\u001b[49m\u001b[43m,\u001b[49m\u001b[43m \u001b[49m\u001b[43mmaxIter\u001b[49m\u001b[43m,\u001b[49m\u001b[43m \u001b[49m\u001b[43mf\u001b[49m\u001b[43m,\u001b[49m\u001b[43m \u001b[49m\u001b[43mJ\u001b[49m\u001b[43m,\u001b[49m\u001b[43m \u001b[49m\u001b[43mconcentration\u001b[49m\u001b[43m,\u001b[49m\u001b[43m \u001b[49m\u001b[43mhour\u001b[49m\u001b[43m)\u001b[49m\n\u001b[0;32m     11\u001b[0m \u001b[38;5;28mprint\u001b[39m(\u001b[38;5;124mf\u001b[39m\u001b[38;5;124m\"\u001b[39m\u001b[38;5;124mApproximate solution with Gauss-Newton: \u001b[39m\u001b[38;5;132;01m{\u001b[39;00msol_g\u001b[38;5;132;01m}\u001b[39;00m\u001b[38;5;124m\"\u001b[39m)\n\u001b[0;32m     12\u001b[0m \u001b[38;5;28mprint\u001b[39m(\u001b[38;5;124mf\u001b[39m\u001b[38;5;124m\"\u001b[39m\u001b[38;5;124mSolution reached in \u001b[39m\u001b[38;5;132;01m{\u001b[39;00miters_g\u001b[38;5;132;01m}\u001b[39;00m\u001b[38;5;124m iterations.\u001b[39m\u001b[38;5;124m\"\u001b[39m)\n",
      "Cell \u001b[1;32mIn[83], line 20\u001b[0m, in \u001b[0;36mGauss_Newton\u001b[1;34m(x0, tol, maxIter, f, J, b, t)\u001b[0m\n\u001b[0;32m     17\u001b[0m     iters \u001b[38;5;241m+\u001b[39m\u001b[38;5;241m=\u001b[39m \u001b[38;5;241m1\u001b[39m\n\u001b[0;32m     19\u001b[0m \u001b[38;5;66;03m# Raise exception if not converged within maxIter\u001b[39;00m\n\u001b[1;32m---> 20\u001b[0m \u001b[38;5;28;01mraise\u001b[39;00m \u001b[38;5;167;01mException\u001b[39;00m(\u001b[38;5;124m\"\u001b[39m\u001b[38;5;124mDid not converge in max iterations!\u001b[39m\u001b[38;5;124m\"\u001b[39m)\n",
      "\u001b[1;31mException\u001b[0m: Did not converge in max iterations!"
     ]
    }
   ],
   "source": [
    "x0 = [2 ,1]\n",
    "\n",
    "print(f\"The starting values for c1 and c2 are: {x0}\")\n",
    "# Fit with Levenberg-Marquart method\n",
    "sol, iters = Lev_Mar(x0, mu, tol, maxIter, f, J, concentration, hour)\n",
    "print(f\"Approximate solution with Levenberg-Marquard: {sol}\")\n",
    "print(f\"Solution reached in {iters} iterations.\")\n",
    "\n",
    "# Fiit with Gauss-Newton\n",
    "sol_g, iters_g = Gauss_Newton(x0, tol, maxIter, f, J, concentration, hour)\n",
    "print(f\"Approximate solution with Gauss-Newton: {sol_g}\")\n",
    "print(f\"Solution reached in {iters_g} iterations.\")\n"
   ]
  },
  {
   "cell_type": "markdown",
   "id": "39f538c9",
   "metadata": {},
   "source": [
    "With starting values [2, 1], the Levenberg-Marquard method converged to an approximate solution in 47 iterations. \n",
    "\n",
    "However, the Gauss-Newton method did not converge in the maximum number of iterations allowed.\n",
    "\n",
    "This is most likely due to the non-linear function f: given the presence of an exponential the function may produce large residuals for some values of\n",
    "c1 and c2, leading to a potentially ill-conditioned Jacobian matrix. This may cause the method to diverge.\n",
    "\n",
    "In contrast, the parameter $\\mu$ in the Levenberg-Marquard model stabilizes the updates, allowing the method to converge even when the starting guess is far from the true solution,\n",
    "or when the residuals are large."
   ]
  },
  {
   "cell_type": "markdown",
   "id": "fe3db79a-df39-42cd-b50e-7e818536d6ce",
   "metadata": {},
   "source": [
    "# (d) \n",
    "So far for simplicity, we considered constant $\\mu$. However\n",
    "Levenberg-Marquardt is often applied adaptively with a varying $\\mu$. \n",
    "A common strategy is to continue to decrease $\\mu$ by a factor of 10 on each iteration step as long as the residual sum of squared errors is decreased by the step, and if the sum increases, to reject the step and increase $\\mu$ by a factor of 10.\n",
    "\n",
    "Implement an adaptive variant of Levenberg-Marquardt using such a strategy for choosing $\\mu$. \n",
    "\n",
    "Compare the performance (iteration number) of the adaptive variant with Gauss-Newton and the previous, non-adaptive variant of Levenberg-Marquardt. Consider a starting point for which Gauss-Newton converged rapidly and a starting point for which Gauss-Newton did not converge, but non-adaptive Levenberg-Marquardt did. Give your answer in a table for clarity, also indicating the starting point and if relevant other parameters."
   ]
  },
  {
   "cell_type": "code",
   "execution_count": 156,
   "id": "0eefc00d-80ba-48a8-b122-65f8f87bf5a3",
   "metadata": {},
   "outputs": [
    {
     "name": "stdout",
     "output_type": "stream",
     "text": [
      "The starting values for c1 and c2 are: (-10, 0)\n",
      "Approximate solution with Levenberg-Marquard: [ 9.79692687 -0.21508714]\n",
      "Solution reached in 31 iterations.\n",
      "Approximate solution with Levenberg-Marquard adaptive: [ 9.79692815 -0.21508717]\n",
      "Solution reached in 7 iterations.\n",
      "Approximate solution with Gauss-Newton: [ 9.79692815 -0.21508717]\n",
      "Solution reached in 8 iterations.\n"
     ]
    }
   ],
   "source": [
    "def Lev_Mar_modified(x0, mu, tol, maxIter, f, J, b, t):\n",
    "    \"\"\"\n",
    "    Adaptive Levenberg-Marquardt method for nonlinear least squares.\n",
    "\n",
    "    Parameters:\n",
    "        x0: Initial guess (array-like).\n",
    "        mu: Initial damping parameter (scalar).\n",
    "        tol: Tolerance for stopping criterion.\n",
    "        maxIter: Maximum number of iterations.\n",
    "        f: Function for computing f(x).\n",
    "        J: Function for computing Jacobian J_f(x).\n",
    "        b: Observed data vector.\n",
    "        t: Independent variable(s).\n",
    "\n",
    "    Returns:\n",
    "        x_new: Solution vector.\n",
    "        iters: Number of iterations.\n",
    "    \"\"\"\n",
    "    x_old = x0\n",
    "    iters = 0\n",
    "    rss_old = np.inf  # Initialize RSS (residual sum of squares)\n",
    "    \n",
    "    for i in range(maxIter):\n",
    "        A = J(x_old, t)  # Compute Jacobian matrix J_f(x_k)\n",
    "        B = np.diag(np.diag(A.T @ A))  # Compute Diagonal(A^T A)\n",
    "        r = f(x_old, t) - b  # Compute residual vector r(x_k)\n",
    "        rss_new = np.linalg.norm(r)**2  # Compute RSS for the current step\n",
    "        \n",
    "        # If RSS increases, increase mu and do not update x\n",
    "        if rss_new > rss_old:\n",
    "            mu *= 10\n",
    "            continue  # Reject the step\n",
    "        \n",
    "        # Otherwise, decrease mu and accept the step\n",
    "        mu /= 10\n",
    "        s = np.linalg.solve(A.T @ A + mu * B, -A.T @ r)  # Solve for s_k\n",
    "        \n",
    "        x_new = x_old + s  # Update x_k+1\n",
    "        \n",
    "        # Check stopping criterion\n",
    "        if np.linalg.norm(x_new - x_old) < tol:\n",
    "            return x_new, iters + 1\n",
    "        \n",
    "        # Update for next iteration\n",
    "        x_old = x_new\n",
    "        rss_old = rss_new  # Update the previous RSS\n",
    "        iters += 1\n",
    "    \n",
    "    # Raise exception if not converged within maxIter\n",
    "    raise Exception(\"Did not converge in max iterations!\")\n",
    "\n",
    "mu = 0.1\n",
    "tol = 1e-6\n",
    "maxIter = 50\n",
    "x0 = (-10, 0)\n",
    "\n",
    "print(f\"The starting values for c1 and c2 are: {x0}\")\n",
    "\n",
    "# Fit with Levenberg-Marquart method\n",
    "sol_l1, iters_l1 = Lev_Mar(x0, mu, tol, maxIter, f, J, concentration, hour)\n",
    "print(f\"Approximate solution with Levenberg-Marquard: {sol_l1}\")\n",
    "print(f\"Solution reached in {iters_l1} iterations.\")\n",
    "\n",
    "# Fit with Levenberg-Marquart modified method\n",
    "sol_lm1, iters_lm1 = Lev_Mar_modified(x0, mu, tol, maxIter, f, J, concentration, hour)\n",
    "print(f\"Approximate solution with Levenberg-Marquard adaptive: {sol_lm1}\")\n",
    "print(f\"Solution reached in {iters_lm1} iterations.\")\n",
    "\n",
    "# Fit with Gauss-Newton\n",
    "sol_g1, iters_g1 = Gauss_Newton(x0, tol, maxIter, f, J, concentration, hour)\n",
    "print(f\"Approximate solution with Gauss-Newton: {sol_g1}\")\n",
    "print(f\"Solution reached in {iters_g1} iterations.\")\n",
    "\n"
   ]
  },
  {
   "cell_type": "markdown",
   "id": "c4449774",
   "metadata": {},
   "source": [
    "Taking (1,0) as starting values, only Levenberg-Marquard method converged, while Gauss-Newton was stopped due to the presence of a singular Hessian matrix.\n",
    "\n",
    "|Method| Starting Values | Tolerance (tol) | Mu | Max Iterations | Convergence | Iterations for convergence |\n",
    "|-----|------------|-----------------|----|----------------|-------------|--------|\n",
    "|Gauss-Newton| [1, 0]          | 1e-6           | 0.1| 50             | No         |-|\n",
    "|Levenberg-Marquard| [1, 0]          | 1e-6           | 0.1| 50             | Yes          |31|\n",
    "|Adaptive Levenberg-Marquard| [1, 0]          | 1e-6           |Adaptive| 50             | No         |-|\n",
    "\n",
    "\n",
    "However, with (-10, 0) as starting value, all three methods converged. Gauss-Newton and the adaptive Levenberg-Marquard conevrged fastly with 8 and 7 iterations, respectively. \n",
    "Levenberg-Marquard converged slowly, requiring 31 iterations.\n",
    "\n",
    "|Method| Starting Values | Tolerance (tol) | Mu | Max Iterations | Convergence | Iterations for convergence |\n",
    "|-----|------------|-----------------|----|----------------|-------------|--------|\n",
    "|Gauss-Newton| [-10, 0]          | 1e-6           | 0.1| 50             | Yes         |8|\n",
    "|Levenberg-Marquard| [-10, 0]          | 1e-6           | 0.1| 50             | Yes          |31|\n",
    "|Adaptive Levenberg-Marquard| [-10, 0]          | 1e-6           |Adaptive| 50             | Yes         |7|\n",
    "\n"
   ]
  }
 ],
 "metadata": {
  "kernelspec": {
   "display_name": "Python 3",
   "language": "python",
   "name": "python3"
  },
  "language_info": {
   "codemirror_mode": {
    "name": "ipython",
    "version": 3
   },
   "file_extension": ".py",
   "mimetype": "text/x-python",
   "name": "python",
   "nbconvert_exporter": "python",
   "pygments_lexer": "ipython3",
   "version": "3.12.7"
  }
 },
 "nbformat": 4,
 "nbformat_minor": 5
}
